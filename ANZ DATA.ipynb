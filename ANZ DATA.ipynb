{
 "cells": [
  {
   "cell_type": "markdown",
   "id": "17d104b8",
   "metadata": {},
   "source": [
    "## ANZ Data"
   ]
  },
  {
   "cell_type": "markdown",
   "id": "a698d90f",
   "metadata": {},
   "source": [
    "### Data Clean"
   ]
  },
  {
   "cell_type": "code",
   "execution_count": 1,
   "id": "45153a66",
   "metadata": {},
   "outputs": [],
   "source": [
    "import numpy as np\n",
    "import pandas as pd\n",
    "import matplotlib.pyplot as plt\n",
    "import seaborn as sns\n",
    "import datetime"
   ]
  },
  {
   "cell_type": "code",
   "execution_count": 2,
   "id": "ba07ddf8",
   "metadata": {},
   "outputs": [],
   "source": [
    "df =pd.read_excel('ANZ synthesised transaction dataset.xlsx')"
   ]
  },
  {
   "cell_type": "code",
   "execution_count": 3,
   "id": "8e733a7f",
   "metadata": {},
   "outputs": [
    {
     "data": {
      "text/html": [
       "<div>\n",
       "<style scoped>\n",
       "    .dataframe tbody tr th:only-of-type {\n",
       "        vertical-align: middle;\n",
       "    }\n",
       "\n",
       "    .dataframe tbody tr th {\n",
       "        vertical-align: top;\n",
       "    }\n",
       "\n",
       "    .dataframe thead th {\n",
       "        text-align: right;\n",
       "    }\n",
       "</style>\n",
       "<table border=\"1\" class=\"dataframe\">\n",
       "  <thead>\n",
       "    <tr style=\"text-align: right;\">\n",
       "      <th></th>\n",
       "      <th>status</th>\n",
       "      <th>card_present_flag</th>\n",
       "      <th>bpay_biller_code</th>\n",
       "      <th>account</th>\n",
       "      <th>currency</th>\n",
       "      <th>long_lat</th>\n",
       "      <th>txn_description</th>\n",
       "      <th>merchant_id</th>\n",
       "      <th>merchant_code</th>\n",
       "      <th>first_name</th>\n",
       "      <th>...</th>\n",
       "      <th>age</th>\n",
       "      <th>merchant_suburb</th>\n",
       "      <th>merchant_state</th>\n",
       "      <th>extraction</th>\n",
       "      <th>amount</th>\n",
       "      <th>transaction_id</th>\n",
       "      <th>country</th>\n",
       "      <th>customer_id</th>\n",
       "      <th>merchant_long_lat</th>\n",
       "      <th>movement</th>\n",
       "    </tr>\n",
       "  </thead>\n",
       "  <tbody>\n",
       "    <tr>\n",
       "      <th>0</th>\n",
       "      <td>authorized</td>\n",
       "      <td>1.0</td>\n",
       "      <td>0</td>\n",
       "      <td>ACC-1598451071</td>\n",
       "      <td>AUD</td>\n",
       "      <td>153.41 -27.95</td>\n",
       "      <td>POS</td>\n",
       "      <td>81c48296-73be-44a7-befa-d053f48ce7cd</td>\n",
       "      <td>0.0</td>\n",
       "      <td>Diana</td>\n",
       "      <td>...</td>\n",
       "      <td>26</td>\n",
       "      <td>Ashmore</td>\n",
       "      <td>QLD</td>\n",
       "      <td>2018-08-01T01:01:15.000+0000</td>\n",
       "      <td>16.25</td>\n",
       "      <td>a623070bfead4541a6b0fff8a09e706c</td>\n",
       "      <td>Australia</td>\n",
       "      <td>CUS-2487424745</td>\n",
       "      <td>153.38 -27.99</td>\n",
       "      <td>debit</td>\n",
       "    </tr>\n",
       "    <tr>\n",
       "      <th>1</th>\n",
       "      <td>authorized</td>\n",
       "      <td>1.0</td>\n",
       "      <td>0</td>\n",
       "      <td>ACC-1598451071</td>\n",
       "      <td>AUD</td>\n",
       "      <td>153.41 -27.95</td>\n",
       "      <td>SALES-POS</td>\n",
       "      <td>830a451c-316e-4a6a-bf25-e37caedca49e</td>\n",
       "      <td>0.0</td>\n",
       "      <td>Diana</td>\n",
       "      <td>...</td>\n",
       "      <td>26</td>\n",
       "      <td>Sydney</td>\n",
       "      <td>NSW</td>\n",
       "      <td>2018-08-01T01:13:45.000+0000</td>\n",
       "      <td>14.19</td>\n",
       "      <td>13270a2a902145da9db4c951e04b51b9</td>\n",
       "      <td>Australia</td>\n",
       "      <td>CUS-2487424745</td>\n",
       "      <td>151.21 -33.87</td>\n",
       "      <td>debit</td>\n",
       "    </tr>\n",
       "    <tr>\n",
       "      <th>2</th>\n",
       "      <td>authorized</td>\n",
       "      <td>1.0</td>\n",
       "      <td>0</td>\n",
       "      <td>ACC-1222300524</td>\n",
       "      <td>AUD</td>\n",
       "      <td>151.23 -33.94</td>\n",
       "      <td>POS</td>\n",
       "      <td>835c231d-8cdf-4e96-859d-e9d571760cf0</td>\n",
       "      <td>0.0</td>\n",
       "      <td>Michael</td>\n",
       "      <td>...</td>\n",
       "      <td>38</td>\n",
       "      <td>Sydney</td>\n",
       "      <td>NSW</td>\n",
       "      <td>2018-08-01T01:26:15.000+0000</td>\n",
       "      <td>6.42</td>\n",
       "      <td>feb79e7ecd7048a5a36ec889d1a94270</td>\n",
       "      <td>Australia</td>\n",
       "      <td>CUS-2142601169</td>\n",
       "      <td>151.21 -33.87</td>\n",
       "      <td>debit</td>\n",
       "    </tr>\n",
       "    <tr>\n",
       "      <th>3</th>\n",
       "      <td>authorized</td>\n",
       "      <td>1.0</td>\n",
       "      <td>0</td>\n",
       "      <td>ACC-1037050564</td>\n",
       "      <td>AUD</td>\n",
       "      <td>153.10 -27.66</td>\n",
       "      <td>SALES-POS</td>\n",
       "      <td>48514682-c78a-4a88-b0da-2d6302e64673</td>\n",
       "      <td>0.0</td>\n",
       "      <td>Rhonda</td>\n",
       "      <td>...</td>\n",
       "      <td>40</td>\n",
       "      <td>Buderim</td>\n",
       "      <td>QLD</td>\n",
       "      <td>2018-08-01T01:38:45.000+0000</td>\n",
       "      <td>40.90</td>\n",
       "      <td>2698170da3704fd981b15e64a006079e</td>\n",
       "      <td>Australia</td>\n",
       "      <td>CUS-1614226872</td>\n",
       "      <td>153.05 -26.68</td>\n",
       "      <td>debit</td>\n",
       "    </tr>\n",
       "    <tr>\n",
       "      <th>4</th>\n",
       "      <td>authorized</td>\n",
       "      <td>1.0</td>\n",
       "      <td>0</td>\n",
       "      <td>ACC-1598451071</td>\n",
       "      <td>AUD</td>\n",
       "      <td>153.41 -27.95</td>\n",
       "      <td>SALES-POS</td>\n",
       "      <td>b4e02c10-0852-4273-b8fd-7b3395e32eb0</td>\n",
       "      <td>0.0</td>\n",
       "      <td>Diana</td>\n",
       "      <td>...</td>\n",
       "      <td>26</td>\n",
       "      <td>Mermaid Beach</td>\n",
       "      <td>QLD</td>\n",
       "      <td>2018-08-01T01:51:15.000+0000</td>\n",
       "      <td>3.25</td>\n",
       "      <td>329adf79878c4cf0aeb4188b4691c266</td>\n",
       "      <td>Australia</td>\n",
       "      <td>CUS-2487424745</td>\n",
       "      <td>153.44 -28.06</td>\n",
       "      <td>debit</td>\n",
       "    </tr>\n",
       "    <tr>\n",
       "      <th>5</th>\n",
       "      <td>posted</td>\n",
       "      <td>0.0</td>\n",
       "      <td>0</td>\n",
       "      <td>ACC-1608363396</td>\n",
       "      <td>AUD</td>\n",
       "      <td>151.22 -33.87</td>\n",
       "      <td>PAYMENT</td>\n",
       "      <td>Not Available</td>\n",
       "      <td>0.0</td>\n",
       "      <td>Robert</td>\n",
       "      <td>...</td>\n",
       "      <td>20</td>\n",
       "      <td>Not Available</td>\n",
       "      <td>Not Available</td>\n",
       "      <td>2018-08-01T02:00:00.000+0000</td>\n",
       "      <td>163.00</td>\n",
       "      <td>1005b48a6eda4ffd85e9b649dc9467d3</td>\n",
       "      <td>Australia</td>\n",
       "      <td>CUS-2688605418</td>\n",
       "      <td>Not Available</td>\n",
       "      <td>debit</td>\n",
       "    </tr>\n",
       "    <tr>\n",
       "      <th>6</th>\n",
       "      <td>authorized</td>\n",
       "      <td>1.0</td>\n",
       "      <td>0</td>\n",
       "      <td>ACC-2776252858</td>\n",
       "      <td>AUD</td>\n",
       "      <td>144.95 -37.76</td>\n",
       "      <td>SALES-POS</td>\n",
       "      <td>3aa18033-a0a9-4190-a117-b7caaf4d07e3</td>\n",
       "      <td>0.0</td>\n",
       "      <td>Kristin</td>\n",
       "      <td>...</td>\n",
       "      <td>43</td>\n",
       "      <td>Kalkallo</td>\n",
       "      <td>VIC</td>\n",
       "      <td>2018-08-01T02:23:04.000+0000</td>\n",
       "      <td>61.06</td>\n",
       "      <td>b79ca208099c4c28aa5dae966096d842</td>\n",
       "      <td>Australia</td>\n",
       "      <td>CUS-4123612273</td>\n",
       "      <td>144.95 -37.53</td>\n",
       "      <td>debit</td>\n",
       "    </tr>\n",
       "    <tr>\n",
       "      <th>7</th>\n",
       "      <td>authorized</td>\n",
       "      <td>1.0</td>\n",
       "      <td>0</td>\n",
       "      <td>ACC-2776252858</td>\n",
       "      <td>AUD</td>\n",
       "      <td>144.95 -37.76</td>\n",
       "      <td>POS</td>\n",
       "      <td>ee58145d-26e8-4b01-9cd9-62378014f21d</td>\n",
       "      <td>0.0</td>\n",
       "      <td>Kristin</td>\n",
       "      <td>...</td>\n",
       "      <td>43</td>\n",
       "      <td>Melbourne</td>\n",
       "      <td>VIC</td>\n",
       "      <td>2018-08-01T04:11:25.000+0000</td>\n",
       "      <td>15.61</td>\n",
       "      <td>e1c4a50d6a0549cbb3710a62a2fa00d5</td>\n",
       "      <td>Australia</td>\n",
       "      <td>CUS-4123612273</td>\n",
       "      <td>144.96 -37.81</td>\n",
       "      <td>debit</td>\n",
       "    </tr>\n",
       "    <tr>\n",
       "      <th>8</th>\n",
       "      <td>authorized</td>\n",
       "      <td>1.0</td>\n",
       "      <td>0</td>\n",
       "      <td>ACC-182446574</td>\n",
       "      <td>AUD</td>\n",
       "      <td>116.06 -32.00</td>\n",
       "      <td>POS</td>\n",
       "      <td>cfbf535e-caa8-499f-9d41-bbdc2b836d85</td>\n",
       "      <td>0.0</td>\n",
       "      <td>Tonya</td>\n",
       "      <td>...</td>\n",
       "      <td>27</td>\n",
       "      <td>Yokine</td>\n",
       "      <td>WA</td>\n",
       "      <td>2018-08-01T04:40:00.000+0000</td>\n",
       "      <td>19.25</td>\n",
       "      <td>799e39eb2c1b411185424b0f2cd18bda</td>\n",
       "      <td>Australia</td>\n",
       "      <td>CUS-3026014945</td>\n",
       "      <td>115.85 -31.9</td>\n",
       "      <td>debit</td>\n",
       "    </tr>\n",
       "    <tr>\n",
       "      <th>9</th>\n",
       "      <td>posted</td>\n",
       "      <td>0.0</td>\n",
       "      <td>0</td>\n",
       "      <td>ACC-602667573</td>\n",
       "      <td>AUD</td>\n",
       "      <td>151.23 -33.96</td>\n",
       "      <td>INTER BANK</td>\n",
       "      <td>Not Available</td>\n",
       "      <td>0.0</td>\n",
       "      <td>Michael</td>\n",
       "      <td>...</td>\n",
       "      <td>40</td>\n",
       "      <td>Not Available</td>\n",
       "      <td>Not Available</td>\n",
       "      <td>2018-08-01T06:00:00.000+0000</td>\n",
       "      <td>21.00</td>\n",
       "      <td>798a77869014441b840a7a8a23408332</td>\n",
       "      <td>Australia</td>\n",
       "      <td>CUS-2031327464</td>\n",
       "      <td>Not Available</td>\n",
       "      <td>debit</td>\n",
       "    </tr>\n",
       "  </tbody>\n",
       "</table>\n",
       "<p>10 rows × 23 columns</p>\n",
       "</div>"
      ],
      "text/plain": [
       "       status  card_present_flag bpay_biller_code         account currency  \\\n",
       "0  authorized                1.0                0  ACC-1598451071      AUD   \n",
       "1  authorized                1.0                0  ACC-1598451071      AUD   \n",
       "2  authorized                1.0                0  ACC-1222300524      AUD   \n",
       "3  authorized                1.0                0  ACC-1037050564      AUD   \n",
       "4  authorized                1.0                0  ACC-1598451071      AUD   \n",
       "5      posted                0.0                0  ACC-1608363396      AUD   \n",
       "6  authorized                1.0                0  ACC-2776252858      AUD   \n",
       "7  authorized                1.0                0  ACC-2776252858      AUD   \n",
       "8  authorized                1.0                0   ACC-182446574      AUD   \n",
       "9      posted                0.0                0   ACC-602667573      AUD   \n",
       "\n",
       "        long_lat txn_description                           merchant_id  \\\n",
       "0  153.41 -27.95             POS  81c48296-73be-44a7-befa-d053f48ce7cd   \n",
       "1  153.41 -27.95       SALES-POS  830a451c-316e-4a6a-bf25-e37caedca49e   \n",
       "2  151.23 -33.94             POS  835c231d-8cdf-4e96-859d-e9d571760cf0   \n",
       "3  153.10 -27.66       SALES-POS  48514682-c78a-4a88-b0da-2d6302e64673   \n",
       "4  153.41 -27.95       SALES-POS  b4e02c10-0852-4273-b8fd-7b3395e32eb0   \n",
       "5  151.22 -33.87         PAYMENT                         Not Available   \n",
       "6  144.95 -37.76       SALES-POS  3aa18033-a0a9-4190-a117-b7caaf4d07e3   \n",
       "7  144.95 -37.76             POS  ee58145d-26e8-4b01-9cd9-62378014f21d   \n",
       "8  116.06 -32.00             POS  cfbf535e-caa8-499f-9d41-bbdc2b836d85   \n",
       "9  151.23 -33.96      INTER BANK                         Not Available   \n",
       "\n",
       "   merchant_code first_name  ...  age merchant_suburb merchant_state  \\\n",
       "0            0.0      Diana  ...   26         Ashmore            QLD   \n",
       "1            0.0      Diana  ...   26          Sydney            NSW   \n",
       "2            0.0    Michael  ...   38          Sydney            NSW   \n",
       "3            0.0     Rhonda  ...   40         Buderim            QLD   \n",
       "4            0.0      Diana  ...   26   Mermaid Beach            QLD   \n",
       "5            0.0     Robert  ...   20   Not Available  Not Available   \n",
       "6            0.0    Kristin  ...   43        Kalkallo            VIC   \n",
       "7            0.0    Kristin  ...   43       Melbourne            VIC   \n",
       "8            0.0      Tonya  ...   27          Yokine             WA   \n",
       "9            0.0    Michael  ...   40   Not Available  Not Available   \n",
       "\n",
       "                     extraction  amount                    transaction_id  \\\n",
       "0  2018-08-01T01:01:15.000+0000   16.25  a623070bfead4541a6b0fff8a09e706c   \n",
       "1  2018-08-01T01:13:45.000+0000   14.19  13270a2a902145da9db4c951e04b51b9   \n",
       "2  2018-08-01T01:26:15.000+0000    6.42  feb79e7ecd7048a5a36ec889d1a94270   \n",
       "3  2018-08-01T01:38:45.000+0000   40.90  2698170da3704fd981b15e64a006079e   \n",
       "4  2018-08-01T01:51:15.000+0000    3.25  329adf79878c4cf0aeb4188b4691c266   \n",
       "5  2018-08-01T02:00:00.000+0000  163.00  1005b48a6eda4ffd85e9b649dc9467d3   \n",
       "6  2018-08-01T02:23:04.000+0000   61.06  b79ca208099c4c28aa5dae966096d842   \n",
       "7  2018-08-01T04:11:25.000+0000   15.61  e1c4a50d6a0549cbb3710a62a2fa00d5   \n",
       "8  2018-08-01T04:40:00.000+0000   19.25  799e39eb2c1b411185424b0f2cd18bda   \n",
       "9  2018-08-01T06:00:00.000+0000   21.00  798a77869014441b840a7a8a23408332   \n",
       "\n",
       "     country     customer_id merchant_long_lat movement  \n",
       "0  Australia  CUS-2487424745     153.38 -27.99    debit  \n",
       "1  Australia  CUS-2487424745     151.21 -33.87    debit  \n",
       "2  Australia  CUS-2142601169     151.21 -33.87    debit  \n",
       "3  Australia  CUS-1614226872     153.05 -26.68    debit  \n",
       "4  Australia  CUS-2487424745     153.44 -28.06    debit  \n",
       "5  Australia  CUS-2688605418     Not Available    debit  \n",
       "6  Australia  CUS-4123612273     144.95 -37.53    debit  \n",
       "7  Australia  CUS-4123612273     144.96 -37.81    debit  \n",
       "8  Australia  CUS-3026014945      115.85 -31.9    debit  \n",
       "9  Australia  CUS-2031327464     Not Available    debit  \n",
       "\n",
       "[10 rows x 23 columns]"
      ]
     },
     "execution_count": 3,
     "metadata": {},
     "output_type": "execute_result"
    }
   ],
   "source": [
    "# fill authorized with 1 , posted 0\n",
    "df.loc[df['status'].eq('authorized'), 'card_present_flag'] = 1\n",
    "df.loc[df['status'].eq('posted'), 'card_present_flag'] = 0\n",
    "# fill bpay_biller_code, merchant_code with 0\n",
    "df.bpay_biller_code=df.bpay_biller_code.fillna(0)\n",
    "df.merchant_code = df. merchant_code.fillna(0)\n",
    "# fill other NAN with not available\n",
    "df=df.fillna('Not Available')\n",
    "\n",
    "df.head(10)"
   ]
  },
  {
   "cell_type": "code",
   "execution_count": 4,
   "id": "605c5a5d",
   "metadata": {},
   "outputs": [
    {
     "name": "stdout",
     "output_type": "stream",
     "text": [
      "the min amount is 0.1, the max amount is 8835.98\n"
     ]
    }
   ],
   "source": [
    "maxamount = max(df.amount)\n",
    "minamount = min(df.amount)\n",
    "print(f'the min amount is {minamount}, the max amount is {maxamount}')"
   ]
  },
  {
   "cell_type": "markdown",
   "id": "b0b03fa2",
   "metadata": {},
   "source": [
    "### Overall Insights"
   ]
  },
  {
   "cell_type": "code",
   "execution_count": 5,
   "id": "6e54a53c",
   "metadata": {},
   "outputs": [
    {
     "data": {
      "text/plain": [
       "{'whiskers': [<matplotlib.lines.Line2D at 0x7f83e8ec1310>,\n",
       "  <matplotlib.lines.Line2D at 0x7f83e8ec1670>],\n",
       " 'caps': [<matplotlib.lines.Line2D at 0x7f840a7030a0>,\n",
       "  <matplotlib.lines.Line2D at 0x7f840a6e1610>],\n",
       " 'boxes': [<matplotlib.lines.Line2D at 0x7f83e8eb3f70>],\n",
       " 'medians': [<matplotlib.lines.Line2D at 0x7f8418de80d0>],\n",
       " 'fliers': [<matplotlib.lines.Line2D at 0x7f8418dec5b0>],\n",
       " 'means': []}"
      ]
     },
     "execution_count": 5,
     "metadata": {},
     "output_type": "execute_result"
    },
    {
     "data": {
      "image/png": "[encoded data removed]",
      "text/plain": [
       "<Figure size 432x288 with 1 Axes>"
      ]
     },
     "metadata": {
      "needs_background": "light"
     },
     "output_type": "display_data"
    }
   ],
   "source": [
    "plt.boxplot(df.amount)"
   ]
  },
  {
   "cell_type": "code",
   "execution_count": 6,
   "id": "deb5b4c4",
   "metadata": {},
   "outputs": [
    {
     "data": {
      "image/png": "[encoded data removed]",
      "text/plain": [
       "<Figure size 432x288 with 1 Axes>"
      ]
     },
     "metadata": {
      "needs_background": "light"
     },
     "output_type": "display_data"
    }
   ],
   "source": [
    "boxplot = df.boxplot(column='amount',by='movement')  "
   ]
  },
  {
   "cell_type": "code",
   "execution_count": 7,
   "id": "037644e0",
   "metadata": {},
   "outputs": [],
   "source": [
    "day_trans=df.groupby('date').size()\n",
    "daily_revenue=df.groupby('date')['amount'].agg('sum')\n",
    "total_trans = np.cumsum(day_trans)\n",
    "cum_daily_revenue = np.cumsum(daily_revenue)"
   ]
  },
  {
   "cell_type": "code",
   "execution_count": 8,
   "id": "34b192d9",
   "metadata": {},
   "outputs": [
    {
     "data": {
      "image/png": "[encoded data removed]",
      "text/plain": [
       "<Figure size 864x432 with 2 Axes>"
      ]
     },
     "metadata": {
      "needs_background": "light"
     },
     "output_type": "display_data"
    }
   ],
   "source": [
    "fig, (ax1, ax2) = plt.subplots(1, 2,figsize=(12,6))\n",
    "ax1.plot(day_trans)\n",
    "ax1.set_title('Daily Transactions')\n",
    "ax2.plot(total_trans)\n",
    "ax2.set_title('Cumulative Daily Transactions')\n",
    "fig.autofmt_xdate()"
   ]
  },
  {
   "cell_type": "code",
   "execution_count": 9,
   "id": "a3372167",
   "metadata": {},
   "outputs": [],
   "source": [
    "daily_revenue=df.groupby('date')['amount'].agg('sum')\n",
    "cum_daily_revenue = np.cumsum(daily_revenue)"
   ]
  },
  {
   "cell_type": "code",
   "execution_count": 10,
   "id": "5cf63baa",
   "metadata": {},
   "outputs": [
    {
     "data": {
      "image/png": "[encoded data removed]",
      "text/plain": [
       "<Figure size 864x432 with 2 Axes>"
      ]
     },
     "metadata": {
      "needs_background": "light"
     },
     "output_type": "display_data"
    }
   ],
   "source": [
    "fig, (ax1, ax2) = plt.subplots(1, 2,figsize=(12,6))\n",
    "ax1.plot(daily_revenue)\n",
    "ax1.set_title('Daily Revenues')\n",
    "ax2.plot(cum_daily_revenue)\n",
    "ax2.set_title('Cumulative Daily Revenues')\n",
    "fig.autofmt_xdate()"
   ]
  },
  {
   "cell_type": "code",
   "execution_count": 11,
   "id": "5a8eb63d",
   "metadata": {},
   "outputs": [],
   "source": [
    "df['date']=pd.to_datetime(df['date'])\n",
    "df.set_index('date',inplace=True)"
   ]
  },
  {
   "cell_type": "code",
   "execution_count": 12,
   "id": "e45b0081",
   "metadata": {},
   "outputs": [],
   "source": [
    "weekly_revenue=df['amount'].resample('W').sum()\n",
    "monthly_revenue=df['amount'].resample('M').sum()"
   ]
  },
  {
   "cell_type": "code",
   "execution_count": 13,
   "id": "d93518e2",
   "metadata": {},
   "outputs": [
    {
     "data": {
      "text/plain": [
       "(array([17744., 17758., 17775., 17789., 17805., 17819., 17836.]),\n",
       " [Text(0, 0, ''),\n",
       "  Text(0, 0, ''),\n",
       "  Text(0, 0, ''),\n",
       "  Text(0, 0, ''),\n",
       "  Text(0, 0, ''),\n",
       "  Text(0, 0, ''),\n",
       "  Text(0, 0, '')])"
      ]
     },
     "execution_count": 13,
     "metadata": {},
     "output_type": "execute_result"
    },
    {
     "data": {
      "image/png": "[encoded data removed]",
      "text/plain": [
       "<Figure size 432x288 with 1 Axes>"
      ]
     },
     "metadata": {
      "needs_background": "light"
     },
     "output_type": "display_data"
    }
   ],
   "source": [
    "plt.plot(weekly_revenue)\n",
    "plt.xticks(rotation=45, ha='right')"
   ]
  },
  {
   "cell_type": "code",
   "execution_count": 14,
   "id": "49d0c397",
   "metadata": {},
   "outputs": [
    {
     "data": {
      "text/plain": [
       "<AxesSubplot:ylabel='amount'>"
      ]
     },
     "execution_count": 14,
     "metadata": {},
     "output_type": "execute_result"
    },
    {
     "data": {
      "image/png": "[encoded data removed]",
      "text/plain": [
       "<Figure size 432x288 with 1 Axes>"
      ]
     },
     "metadata": {},
     "output_type": "display_data"
    }
   ],
   "source": [
    "df.groupby(['movement'])['amount'].sum().plot(kind='pie',shadow=True,autopct=\"%.2f\")"
   ]
  },
  {
   "cell_type": "code",
   "execution_count": 15,
   "id": "7cab42f8",
   "metadata": {},
   "outputs": [
    {
     "data": {
      "text/plain": [
       "<AxesSubplot:ylabel='amount'>"
      ]
     },
     "execution_count": 15,
     "metadata": {},
     "output_type": "execute_result"
    },
    {
     "data": {
      "image/png": "[encoded data removed]",
      "text/plain": [
       "<Figure size 432x288 with 1 Axes>"
      ]
     },
     "metadata": {},
     "output_type": "display_data"
    }
   ],
   "source": [
    "df.groupby(['gender'])['amount'].sum().plot(kind='pie',shadow=True,autopct=\"%.2f\")"
   ]
  },
  {
   "cell_type": "code",
   "execution_count": 16,
   "id": "535aa0cc",
   "metadata": {},
   "outputs": [
    {
     "data": {
      "text/plain": [
       "<AxesSubplot:ylabel='gender,movement'>"
      ]
     },
     "execution_count": 16,
     "metadata": {},
     "output_type": "execute_result"
    },
    {
     "data": {
      "image/png": "[encoded data removed]",
      "text/plain": [
       "<Figure size 432x288 with 1 Axes>"
      ]
     },
     "metadata": {
      "needs_background": "light"
     },
     "output_type": "display_data"
    }
   ],
   "source": [
    "df.groupby(['gender','movement'])['amount'].sum().plot(kind='barh',stacked=True)"
   ]
  },
  {
   "cell_type": "code",
   "execution_count": 279,
   "id": "9b734c3b",
   "metadata": {},
   "outputs": [
    {
     "data": {
      "text/plain": [
       "(array([0, 1, 2, 3, 4, 5]),\n",
       " [Text(0, 0, '(18, 28]'),\n",
       "  Text(1, 0, '(28, 38]'),\n",
       "  Text(2, 0, '(38, 48]'),\n",
       "  Text(3, 0, '(48, 58]'),\n",
       "  Text(4, 0, '(58, 68]'),\n",
       "  Text(5, 0, '(68, 78]')])"
      ]
     },
     "execution_count": 279,
     "metadata": {},
     "output_type": "execute_result"
    },
    {
     "data": {
      "image/png": "[encoded data removed]",
      "text/plain": [
       "<Figure size 432x288 with 1 Axes>"
      ]
     },
     "metadata": {
      "needs_background": "light"
     },
     "output_type": "display_data"
    }
   ],
   "source": [
    "age_groups = pd.cut(df['age'], bins=[18, 28, 38,48,58,68,78])\n",
    "df.groupby(age_groups)['amount'].mean().plot(kind='bar',stacked=True)\n",
    "plt.title('Revenues by age level')\n",
    "plt.xticks(rotation=45, ha='right')"
   ]
  },
  {
   "cell_type": "code",
   "execution_count": 280,
   "id": "82e48aa4",
   "metadata": {},
   "outputs": [
    {
     "data": {
      "text/plain": [
       "<AxesSubplot:xlabel='first_name'>"
      ]
     },
     "execution_count": 280,
     "metadata": {},
     "output_type": "execute_result"
    },
    {
     "data": {
      "image/png": "[encoded data removed]",
      "text/plain": [
       "<Figure size 432x288 with 1 Axes>"
      ]
     },
     "metadata": {
      "needs_background": "light"
     },
     "output_type": "display_data"
    }
   ],
   "source": [
    "df.groupby(['first_name'])['amount'].sum().sort_values().tail(20).plot(kind='bar')"
   ]
  },
  {
   "cell_type": "code",
   "execution_count": 281,
   "id": "b3b2cae8",
   "metadata": {},
   "outputs": [
    {
     "data": {
      "text/plain": [
       "<AxesSubplot:xlabel='first_name'>"
      ]
     },
     "execution_count": 281,
     "metadata": {},
     "output_type": "execute_result"
    },
    {
     "data": {
      "image/png": "[encoded data removed]",
      "text/plain": [
       "<Figure size 432x288 with 1 Axes>"
      ]
     },
     "metadata": {
      "needs_background": "light"
     },
     "output_type": "display_data"
    }
   ],
   "source": [
    "df.groupby(['first_name'])['amount'].sum().sort_values().head(20).plot(kind='bar')"
   ]
  },
  {
   "cell_type": "markdown",
   "id": "6d95f9db",
   "metadata": {},
   "source": [
    "## Predictive Analytics"
   ]
  },
  {
   "cell_type": "markdown",
   "id": "61d0e503",
   "metadata": {},
   "source": [
    "### annual salary for each customer"
   ]
  },
  {
   "cell_type": "code",
   "execution_count": 282,
   "id": "e8b325bd",
   "metadata": {},
   "outputs": [],
   "source": [
    "trans_number = df.groupby(['first_name'])['status'].count().reset_index(['first_name'])"
   ]
  },
  {
   "cell_type": "code",
   "execution_count": 283,
   "id": "5f9b3a24",
   "metadata": {},
   "outputs": [
    {
     "data": {
      "text/html": [
       "<div>\n",
       "<style scoped>\n",
       "    .dataframe tbody tr th:only-of-type {\n",
       "        vertical-align: middle;\n",
       "    }\n",
       "\n",
       "    .dataframe tbody tr th {\n",
       "        vertical-align: top;\n",
       "    }\n",
       "\n",
       "    .dataframe thead th {\n",
       "        text-align: right;\n",
       "    }\n",
       "</style>\n",
       "<table border=\"1\" class=\"dataframe\">\n",
       "  <thead>\n",
       "    <tr style=\"text-align: right;\">\n",
       "      <th></th>\n",
       "      <th>first_name</th>\n",
       "      <th>gender</th>\n",
       "      <th>age</th>\n",
       "      <th>Num of Transactions</th>\n",
       "      <th>Salary</th>\n",
       "    </tr>\n",
       "  </thead>\n",
       "  <tbody>\n",
       "    <tr>\n",
       "      <th>0</th>\n",
       "      <td>Abigail</td>\n",
       "      <td>F</td>\n",
       "      <td>40</td>\n",
       "      <td>102</td>\n",
       "      <td>151094.12</td>\n",
       "    </tr>\n",
       "    <tr>\n",
       "      <th>1</th>\n",
       "      <td>Alexander</td>\n",
       "      <td>M</td>\n",
       "      <td>38</td>\n",
       "      <td>91</td>\n",
       "      <td>92901.74</td>\n",
       "    </tr>\n",
       "    <tr>\n",
       "      <th>2</th>\n",
       "      <td>Amy</td>\n",
       "      <td>F</td>\n",
       "      <td>43</td>\n",
       "      <td>124</td>\n",
       "      <td>26484.20</td>\n",
       "    </tr>\n",
       "    <tr>\n",
       "      <th>3</th>\n",
       "      <td>Andrew</td>\n",
       "      <td>M</td>\n",
       "      <td>78</td>\n",
       "      <td>34</td>\n",
       "      <td>657477.50</td>\n",
       "    </tr>\n",
       "    <tr>\n",
       "      <th>4</th>\n",
       "      <td>Antonio</td>\n",
       "      <td>M</td>\n",
       "      <td>26</td>\n",
       "      <td>115</td>\n",
       "      <td>78678.67</td>\n",
       "    </tr>\n",
       "    <tr>\n",
       "      <th>...</th>\n",
       "      <td>...</td>\n",
       "      <td>...</td>\n",
       "      <td>...</td>\n",
       "      <td>...</td>\n",
       "      <td>...</td>\n",
       "    </tr>\n",
       "    <tr>\n",
       "      <th>95</th>\n",
       "      <td>Timothy</td>\n",
       "      <td>M</td>\n",
       "      <td>20</td>\n",
       "      <td>72</td>\n",
       "      <td>42000.30</td>\n",
       "    </tr>\n",
       "    <tr>\n",
       "      <th>96</th>\n",
       "      <td>Tonya</td>\n",
       "      <td>F</td>\n",
       "      <td>27</td>\n",
       "      <td>292</td>\n",
       "      <td>50023.10</td>\n",
       "    </tr>\n",
       "    <tr>\n",
       "      <th>97</th>\n",
       "      <td>Tyler</td>\n",
       "      <td>M</td>\n",
       "      <td>44</td>\n",
       "      <td>218</td>\n",
       "      <td>49934.57</td>\n",
       "    </tr>\n",
       "    <tr>\n",
       "      <th>98</th>\n",
       "      <td>Tyler</td>\n",
       "      <td>M</td>\n",
       "      <td>69</td>\n",
       "      <td>218</td>\n",
       "      <td>94283.29</td>\n",
       "    </tr>\n",
       "    <tr>\n",
       "      <th>99</th>\n",
       "      <td>Virginia</td>\n",
       "      <td>F</td>\n",
       "      <td>20</td>\n",
       "      <td>199</td>\n",
       "      <td>76688.05</td>\n",
       "    </tr>\n",
       "  </tbody>\n",
       "</table>\n",
       "<p>100 rows × 5 columns</p>\n",
       "</div>"
      ],
      "text/plain": [
       "   first_name gender  age  Num of Transactions     Salary\n",
       "0     Abigail      F   40                  102  151094.12\n",
       "1   Alexander      M   38                   91   92901.74\n",
       "2         Amy      F   43                  124   26484.20\n",
       "3      Andrew      M   78                   34  657477.50\n",
       "4     Antonio      M   26                  115   78678.67\n",
       "..        ...    ...  ...                  ...        ...\n",
       "95    Timothy      M   20                   72   42000.30\n",
       "96      Tonya      F   27                  292   50023.10\n",
       "97      Tyler      M   44                  218   49934.57\n",
       "98      Tyler      M   69                  218   94283.29\n",
       "99   Virginia      F   20                  199   76688.05\n",
       "\n",
       "[100 rows x 5 columns]"
      ]
     },
     "execution_count": 283,
     "metadata": {},
     "output_type": "execute_result"
    }
   ],
   "source": [
    "df1=df[df['txn_description']=='PAY/SALARY']\n",
    "df1=df1.groupby(['first_name','age','gender'])['balance'].sum().reset_index(name='Salary')\n",
    "df1=df1.merge(trans_number)\n",
    "df1=df1.rename(columns={'status':'Num of Transactions'})\n",
    "column_names = ['first_name','gender','age','Num of Transactions','Salary']\n",
    "df1 = df1.reindex(columns=column_names)\n",
    "#df1 = pd.DataFrame(df1)\n",
    "df1"
   ]
  },
  {
   "cell_type": "markdown",
   "id": "cd7338fb",
   "metadata": {},
   "source": [
    "###  correlations between annual salary and various customer attributes"
   ]
  },
  {
   "cell_type": "code",
   "execution_count": 284,
   "id": "de10890f",
   "metadata": {},
   "outputs": [
    {
     "data": {
      "text/html": [
       "<div>\n",
       "<style scoped>\n",
       "    .dataframe tbody tr th:only-of-type {\n",
       "        vertical-align: middle;\n",
       "    }\n",
       "\n",
       "    .dataframe tbody tr th {\n",
       "        vertical-align: top;\n",
       "    }\n",
       "\n",
       "    .dataframe thead th {\n",
       "        text-align: right;\n",
       "    }\n",
       "</style>\n",
       "<table border=\"1\" class=\"dataframe\">\n",
       "  <thead>\n",
       "    <tr style=\"text-align: right;\">\n",
       "      <th></th>\n",
       "      <th>age</th>\n",
       "      <th>Num of Transactions</th>\n",
       "      <th>Salary</th>\n",
       "    </tr>\n",
       "  </thead>\n",
       "  <tbody>\n",
       "    <tr>\n",
       "      <th>age</th>\n",
       "      <td>1.000000</td>\n",
       "      <td>-0.136160</td>\n",
       "      <td>0.289224</td>\n",
       "    </tr>\n",
       "    <tr>\n",
       "      <th>Num of Transactions</th>\n",
       "      <td>-0.136160</td>\n",
       "      <td>1.000000</td>\n",
       "      <td>-0.037192</td>\n",
       "    </tr>\n",
       "    <tr>\n",
       "      <th>Salary</th>\n",
       "      <td>0.289224</td>\n",
       "      <td>-0.037192</td>\n",
       "      <td>1.000000</td>\n",
       "    </tr>\n",
       "  </tbody>\n",
       "</table>\n",
       "</div>"
      ],
      "text/plain": [
       "                          age  Num of Transactions    Salary\n",
       "age                  1.000000            -0.136160  0.289224\n",
       "Num of Transactions -0.136160             1.000000 -0.037192\n",
       "Salary               0.289224            -0.037192  1.000000"
      ]
     },
     "execution_count": 284,
     "metadata": {},
     "output_type": "execute_result"
    }
   ],
   "source": [
    "df1.corr()"
   ]
  },
  {
   "cell_type": "code",
   "execution_count": 285,
   "id": "166ea1a5",
   "metadata": {},
   "outputs": [
    {
     "data": {
      "text/plain": [
       "<matplotlib.collections.PathCollection at 0x7f9acd73cf70>"
      ]
     },
     "execution_count": 285,
     "metadata": {},
     "output_type": "execute_result"
    },
    {
     "data": {
      "image/png": "[encoded data removed]",
      "text/plain": [
       "<Figure size 864x432 with 2 Axes>"
      ]
     },
     "metadata": {
      "needs_background": "light"
     },
     "output_type": "display_data"
    }
   ],
   "source": [
    "fig, (ax1, ax2) = plt.subplots(1, 2,figsize=(12,6))\n",
    "ax1.scatter(df1.age,df1.Salary)\n",
    "ax2.scatter(df1['Num of Transactions'],df1.Salary)"
   ]
  },
  {
   "cell_type": "markdown",
   "id": "9a3e98b3",
   "metadata": {},
   "source": [
    "### Simple Regression"
   ]
  },
  {
   "cell_type": "code",
   "execution_count": 286,
   "id": "15d2057b",
   "metadata": {},
   "outputs": [],
   "source": [
    "#Age and Salary\n",
    "X = df1.iloc[:,1:-1].values\n",
    "y = df1.iloc[:,-1].values\n"
   ]
  },
  {
   "cell_type": "code",
   "execution_count": 287,
   "id": "d88d52d1",
   "metadata": {},
   "outputs": [
    {
     "data": {
      "text/plain": [
       "array([[1.0, 0.0, 40, 102],\n",
       "       [0.0, 1.0, 38, 91],\n",
       "       [1.0, 0.0, 43, 124],\n",
       "       [0.0, 1.0, 78, 34],\n",
       "       [0.0, 1.0, 26, 115],\n",
       "       [1.0, 0.0, 25, 75],\n",
       "       [0.0, 1.0, 38, 122],\n",
       "       [0.0, 1.0, 52, 77],\n",
       "       [0.0, 1.0, 42, 63],\n",
       "       [1.0, 0.0, 26, 62],\n",
       "       [0.0, 1.0, 18, 145],\n",
       "       [1.0, 0.0, 39, 139],\n",
       "       [0.0, 1.0, 33, 263],\n",
       "       [0.0, 1.0, 35, 263],\n",
       "       [1.0, 0.0, 19, 51],\n",
       "       [0.0, 1.0, 28, 165],\n",
       "       [0.0, 1.0, 22, 123],\n",
       "       [0.0, 1.0, 20, 58],\n",
       "       [0.0, 1.0, 42, 40],\n",
       "       [1.0, 0.0, 18, 98],\n",
       "       [0.0, 1.0, 20, 141],\n",
       "       [1.0, 0.0, 26, 578],\n",
       "       [0.0, 1.0, 22, 55],\n",
       "       [0.0, 1.0, 28, 80],\n",
       "       [0.0, 1.0, 19, 170],\n",
       "       [1.0, 0.0, 50, 44],\n",
       "       [1.0, 0.0, 43, 52],\n",
       "       [0.0, 1.0, 22, 96],\n",
       "       [0.0, 1.0, 42, 96],\n",
       "       [0.0, 1.0, 19, 97],\n",
       "       [0.0, 1.0, 42, 80],\n",
       "       [1.0, 0.0, 41, 121],\n",
       "       [0.0, 1.0, 23, 116],\n",
       "       [1.0, 0.0, 30, 92],\n",
       "       [0.0, 1.0, 28, 169],\n",
       "       [0.0, 1.0, 24, 388],\n",
       "       [0.0, 1.0, 30, 388],\n",
       "       [1.0, 0.0, 21, 408],\n",
       "       [1.0, 0.0, 34, 408],\n",
       "       [0.0, 1.0, 38, 31],\n",
       "       [0.0, 1.0, 21, 391],\n",
       "       [0.0, 1.0, 37, 391],\n",
       "       [1.0, 0.0, 21, 124],\n",
       "       [1.0, 0.0, 26, 60],\n",
       "       [0.0, 1.0, 29, 214],\n",
       "       [0.0, 1.0, 35, 214],\n",
       "       [1.0, 0.0, 24, 343],\n",
       "       [1.0, 0.0, 27, 343],\n",
       "       [1.0, 0.0, 35, 343],\n",
       "       [1.0, 0.0, 43, 134],\n",
       "       [1.0, 0.0, 24, 179],\n",
       "       [1.0, 0.0, 35, 179],\n",
       "       [1.0, 0.0, 18, 97],\n",
       "       [0.0, 1.0, 21, 100],\n",
       "       [0.0, 1.0, 27, 126],\n",
       "       [1.0, 0.0, 18, 102],\n",
       "       [1.0, 0.0, 35, 81],\n",
       "       [1.0, 0.0, 23, 84],\n",
       "       [1.0, 0.0, 64, 88],\n",
       "       [0.0, 1.0, 39, 144],\n",
       "       [1.0, 0.0, 30, 57],\n",
       "       [0.0, 1.0, 19, 746],\n",
       "       [0.0, 1.0, 21, 746],\n",
       "       [0.0, 1.0, 22, 746],\n",
       "       [0.0, 1.0, 38, 746],\n",
       "       [0.0, 1.0, 40, 746],\n",
       "       [0.0, 1.0, 44, 746],\n",
       "       [1.0, 0.0, 30, 117],\n",
       "       [1.0, 0.0, 19, 178],\n",
       "       [1.0, 0.0, 40, 151],\n",
       "       [0.0, 1.0, 31, 118],\n",
       "       [0.0, 1.0, 46, 67],\n",
       "       [0.0, 1.0, 25, 62],\n",
       "       [1.0, 0.0, 21, 76],\n",
       "       [1.0, 0.0, 38, 118],\n",
       "       [1.0, 0.0, 40, 259],\n",
       "       [0.0, 1.0, 22, 364],\n",
       "       [0.0, 1.0, 24, 364],\n",
       "       [0.0, 1.0, 37, 364],\n",
       "       [0.0, 1.0, 43, 163],\n",
       "       [0.0, 1.0, 20, 207],\n",
       "       [0.0, 1.0, 26, 207],\n",
       "       [1.0, 0.0, 34, 118],\n",
       "       [0.0, 1.0, 25, 148],\n",
       "       [1.0, 0.0, 47, 110],\n",
       "       [0.0, 1.0, 31, 239],\n",
       "       [0.0, 1.0, 38, 239],\n",
       "       [1.0, 0.0, 34, 174],\n",
       "       [1.0, 0.0, 46, 86],\n",
       "       [0.0, 1.0, 23, 109],\n",
       "       [1.0, 0.0, 53, 73],\n",
       "       [1.0, 0.0, 19, 282],\n",
       "       [1.0, 0.0, 20, 282],\n",
       "       [1.0, 0.0, 25, 230],\n",
       "       [0.0, 1.0, 40, 78],\n",
       "       [0.0, 1.0, 20, 72],\n",
       "       [1.0, 0.0, 27, 292],\n",
       "       [0.0, 1.0, 44, 218],\n",
       "       [0.0, 1.0, 69, 218],\n",
       "       [1.0, 0.0, 20, 199]], dtype=object)"
      ]
     },
     "execution_count": 287,
     "metadata": {},
     "output_type": "execute_result"
    }
   ],
   "source": [
    "#Encoding Data\n",
    "from sklearn.compose import ColumnTransformer\n",
    "from sklearn.preprocessing import OneHotEncoder\n",
    "gd = ColumnTransformer(transformers=[('encoder',OneHotEncoder(),[0])],remainder='passthrough')\n",
    "X = np.array(gd.fit_transform(X))\n",
    "# 1 FEMALE, 0 MALE\n",
    "X"
   ]
  },
  {
   "cell_type": "code",
   "execution_count": 228,
   "id": "387bcc5e",
   "metadata": {},
   "outputs": [],
   "source": [
    "#SPLIT TRAIN AND TEST SET\n",
    "from sklearn.model_selection import train_test_split\n",
    "X_train, X_test, y_train, y_test = train_test_split(X, y, test_size = 1/3, random_state = 0)"
   ]
  },
  {
   "cell_type": "code",
   "execution_count": 229,
   "id": "fd106479",
   "metadata": {},
   "outputs": [
    {
     "data": {
      "text/plain": [
       "LinearRegression()"
      ]
     },
     "execution_count": 229,
     "metadata": {},
     "output_type": "execute_result"
    }
   ],
   "source": [
    "# REGRESSION\n",
    "from sklearn.linear_model import LinearRegression\n",
    "regressor = LinearRegression()\n",
    "regressor.fit(X_train, y_train)"
   ]
  },
  {
   "cell_type": "code",
   "execution_count": 230,
   "id": "1ed8e36e",
   "metadata": {},
   "outputs": [
    {
     "name": "stdout",
     "output_type": "stream",
     "text": [
      "Intercept: \n",
      " 33805.54560733584\n",
      "Coefficients: \n",
      " [ 534.1  -534.1  2702.86   10.88]\n"
     ]
    }
   ],
   "source": [
    "print('Intercept: \\n', regressor.intercept_)\n",
    "print('Coefficients: \\n', regressor.coef_)"
   ]
  },
  {
   "cell_type": "code",
   "execution_count": 222,
   "id": "cffe0ba9",
   "metadata": {},
   "outputs": [
    {
     "name": "stdout",
     "output_type": "stream",
     "text": [
      "[[ 151128.26  409793.72]\n",
      " [ 138579.61  506145.72]\n",
      " [ 151911.35   26484.2 ]\n",
      " [  84100.53   26536.67]\n",
      " [ 145271.05   51472.2 ]\n",
      " [ 104412.72   67715.64]\n",
      " [  94072.18   59122.64]\n",
      " [  91926.33   48462.09]\n",
      " [ 107619.12   95447.77]\n",
      " [  88111.77   42000.3 ]\n",
      " [  91119.17   83700.42]\n",
      " [  91463.98   97942.75]\n",
      " [ 137236.28   72025.43]\n",
      " [ 130732.06   65301.33]\n",
      " [ 174657.72   86898.05]\n",
      " [ 147661.73   28575.85]\n",
      " [  93332.6    37087.99]\n",
      " [  86474.78  114059.67]\n",
      " [ 116426.11   14129.58]\n",
      " [ 147476.84  792776.29]\n",
      " [ 105266.62   94134.87]\n",
      " [  98145.22  467645.22]\n",
      " [ 244464.44  657477.5 ]\n",
      " [ 158331.79 1584768.28]\n",
      " [ 130199.12  164255.24]\n",
      " [ 132670.35   54704.11]\n",
      " [ 137307.09   43956.52]\n",
      " [  90561.25   76688.05]\n",
      " [ 127520.33  114575.08]\n",
      " [  96693.36   48995.72]\n",
      " [ 116045.44  105638.82]\n",
      " [  89580.06   40760.94]\n",
      " [ 178385.27   61342.65]\n",
      " [  87629.99   88893.08]]\n"
     ]
    }
   ],
   "source": [
    "y_pred = regressor.predict(X_test)\n",
    "np.set_printoptions(precision=2) # print numericals only with 2 decimals places\n",
    "print(np.concatenate((y_pred.reshape(len(y_pred),1), y_test.reshape(len(y_test),1)),1))"
   ]
  },
  {
   "cell_type": "code",
   "execution_count": 259,
   "id": "a7ef2a0c",
   "metadata": {},
   "outputs": [
    {
     "data": {
      "text/plain": [
       "DecisionTreeRegressor(random_state=0)"
      ]
     },
     "execution_count": 259,
     "metadata": {},
     "output_type": "execute_result"
    }
   ],
   "source": [
    "from sklearn.tree import DecisionTreeRegressor\n",
    "regressor = DecisionTreeRegressor(random_state = 0)\n",
    "regressor.fit(X, y)"
   ]
  },
  {
   "cell_type": "code",
   "execution_count": 290,
   "id": "de750b39",
   "metadata": {},
   "outputs": [
    {
     "data": {
      "text/plain": [
       "array([75015.58])"
      ]
     },
     "execution_count": 290,
     "metadata": {},
     "output_type": "execute_result"
    }
   ],
   "source": [
    "regressor.predict([[1,20]])"
   ]
  },
  {
   "cell_type": "code",
   "execution_count": 257,
   "id": "86f91e77",
   "metadata": {},
   "outputs": [
    {
     "name": "stdout",
     "output_type": "stream",
     "text": [
      "                                 OLS Regression Results                                \n",
      "=======================================================================================\n",
      "Dep. Variable:                 Salary   R-squared (uncentered):                   0.339\n",
      "Model:                            OLS   Adj. R-squared (uncentered):              0.319\n",
      "Method:                 Least Squares   F-statistic:                              16.59\n",
      "Date:                Thu, 10 Feb 2022   Prob (F-statistic):                    8.92e-09\n",
      "Time:                        13:29:17   Log-Likelihood:                         -1373.4\n",
      "No. Observations:                 100   AIC:                                      2753.\n",
      "Df Residuals:                      97   BIC:                                      2761.\n",
      "Df Model:                           3                                                  \n",
      "Covariance Type:            nonrobust                                                  \n",
      "=======================================================================================\n",
      "                          coef    std err          t      P>|t|      [0.025      0.975]\n",
      "---------------------------------------------------------------------------------------\n",
      "age                  4327.1525   1041.929      4.153      0.000    2259.212    6395.093\n",
      "Num of Transactions   -72.2784    121.940     -0.593      0.555    -314.295     169.738\n",
      "gender_M             4.683e+04    4.5e+04      1.041      0.300   -4.24e+04    1.36e+05\n",
      "==============================================================================\n",
      "Omnibus:                      120.853   Durbin-Watson:                   2.096\n",
      "Prob(Omnibus):                  0.000   Jarque-Bera (JB):             2091.886\n",
      "Skew:                           4.200   Prob(JB):                         0.00\n",
      "Kurtosis:                      23.773   Cond. No.                         530.\n",
      "==============================================================================\n",
      "\n",
      "Notes:\n",
      "[1] R² is computed without centering (uncentered) since the model does not contain a constant.\n",
      "[2] Standard Errors assume that the covariance matrix of the errors is correctly specified.\n"
     ]
    }
   ],
   "source": [
    "import statsmodels.api as sm\n",
    "\n",
    "\n",
    "df2=df1.copy()\n",
    "M = pd.get_dummies(df2['gender'], prefix='gender', drop_first=True)\n",
    "M.head(3)\n",
    "X=df2[['age','Num of Transactions']]\n",
    "y=df2['Salary']\n",
    "fullX = pd.concat([X, M['gender_M']], axis=1)\n",
    "\n",
    "model = sm.OLS(y, fullX).fit()\n",
    "model.summary()\n",
    "predictions = model.predict(fullX) \n",
    " \n",
    "print_model = model.summary()\n",
    "print(print_model)"
   ]
  }
 ],
 "metadata": {
  "kernelspec": {
   "display_name": "Python 3",
   "language": "python",
   "name": "python3"
  },
  "language_info": {
   "codemirror_mode": {
    "name": "ipython",
    "version": 3
   },
   "file_extension": ".py",
   "mimetype": "text/x-python",
   "name": "python",
   "nbconvert_exporter": "python",
   "pygments_lexer": "ipython3",
   "version": "3.8.8"
  },
  "toc": {
   "base_numbering": 1,
   "nav_menu": {},
   "number_sections": true,
   "sideBar": true,
   "skip_h1_title": false,
   "title_cell": "Table of Contents",
   "title_sidebar": "Contents",
   "toc_cell": false,
   "toc_position": {},
   "toc_section_display": true,
   "toc_window_display": false
  },
  "varInspector": {
   "cols": {
    "lenName": 16,
    "lenType": 16,
    "lenVar": 40
   },
   "kernels_config": {
    "python": {
     "delete_cmd_postfix": "",
     "delete_cmd_prefix": "del ",
     "library": "var_list.py",
     "varRefreshCmd": "print(var_dic_list())"
    },
    "r": {
     "delete_cmd_postfix": ") ",
     "delete_cmd_prefix": "rm(",
     "library": "var_list.r",
     "varRefreshCmd": "cat(var_dic_list()) "
    }
   },
   "types_to_exclude": [
    "module",
    "function",
    "builtin_function_or_method",
    "instance",
    "_Feature"
   ],
   "window_display": false
  }
 },
 "nbformat": 4,
 "nbformat_minor": 5
}
